{
  "nbformat": 4,
  "nbformat_minor": 0,
  "metadata": {
    "colab": {
      "provenance": [],
      "collapsed_sections": [
        "IO1HnwDg6kvQ"
      ]
    },
    "kernelspec": {
      "display_name": "Python 3",
      "name": "python3"
    },
    "language_info": {
      "name": "python"
    }
  },
  "cells": [
    {
      "cell_type": "markdown",
      "metadata": {
        "id": "o8uL463oFKkv"
      },
      "source": [
        "# Setting up pyspark"
      ]
    },
    {
      "cell_type": "code",
      "metadata": {
        "id": "dWBxthAQhfn8"
      },
      "source": [
        "!apt-get install openjdk-8-jdk-headless -qq > /dev/null\n",
        "# !wget -q https://www-us.apache.org/dist/spark/spark-3.1.2/spark-3.1.2-bin-hadoop2.7.tgz (link outdated)\n",
        "!wget -q https://downloads.apache.org/spark/spark-3.1.2/spark-3.1.2-bin-hadoop2.7.tgz\n",
        "!tar xf spark-3.1.2-bin-hadoop2.7.tgz\n",
        "\n",
        "!pip install -q findspark"
      ],
      "execution_count": null,
      "outputs": []
    },
    {
      "cell_type": "code",
      "metadata": {
        "colab": {
          "base_uri": "https://localhost:8080/",
          "height": 222
        },
        "id": "ixLSds_jw4Ff",
        "outputId": "2a6c45d1-bb43-4efb-8470-d49221fd5e21"
      },
      "source": [
        "import os\n",
        "os.environ[\"JAVA_HOME\"] = \"/usr/lib/jvm/java-8-openjdk-amd64\"\n",
        "os.environ[\"SPARK_HOME\"] = \"/content/spark-3.1.2-bin-hadoop2.7\"\n",
        "\n",
        "import findspark\n",
        "findspark.init()\n",
        "\n",
        "from pyspark.sql import SparkSession\n",
        "# sparkmaster = \"spark://itd353-ext:7077\" # change this according to your machine domain name, check out https://localhost:8080\n",
        "# sparkSession = SparkSession.builder.master(sparkmaster).appName(\"Fraud Detection\").getOrCreate()\n",
        "sparkSession = SparkSession.builder\\\n",
        "               .master(\"local\")\\\n",
        "               .appName(\"Colab\")\\\n",
        "               .config('spark.ui.port', '4050')\\\n",
        "               .getOrCreate()\n",
        "\n",
        "sparkSession"
      ],
      "execution_count": null,
      "outputs": [
        {
          "output_type": "execute_result",
          "data": {
            "text/html": [
              "\n",
              "            <div>\n",
              "                <p><b>SparkSession - in-memory</b></p>\n",
              "                \n",
              "        <div>\n",
              "            <p><b>SparkContext</b></p>\n",
              "\n",
              "            <p><a href=\"http://82e82be9e236:4050\">Spark UI</a></p>\n",
              "\n",
              "            <dl>\n",
              "              <dt>Version</dt>\n",
              "                <dd><code>v3.1.2</code></dd>\n",
              "              <dt>Master</dt>\n",
              "                <dd><code>local</code></dd>\n",
              "              <dt>AppName</dt>\n",
              "                <dd><code>Colab</code></dd>\n",
              "            </dl>\n",
              "        </div>\n",
              "        \n",
              "            </div>\n",
              "        "
            ],
            "text/plain": [
              "<pyspark.sql.session.SparkSession at 0x7f4abbeab890>"
            ]
          },
          "metadata": {
            "tags": []
          },
          "execution_count": 2
        }
      ]
    },
    {
      "cell_type": "markdown",
      "metadata": {
        "id": "E2t3KmlRMcQF"
      },
      "source": [
        "# Setting up libaries"
      ]
    },
    {
      "cell_type": "code",
      "metadata": {
        "id": "E7JHmy0r1jOU",
        "colab": {
          "base_uri": "https://localhost:8080/"
        },
        "outputId": "75fcbbbd-2934-4382-9c6b-e571f6a8fd1d"
      },
      "source": [
        "!pip install -q handyspark"
      ],
      "execution_count": null,
      "outputs": [
        {
          "output_type": "stream",
          "text": [
            "\u001b[K     |████████████████████████████████| 212.4 MB 63 kB/s \n",
            "\u001b[K     |████████████████████████████████| 198 kB 52.2 MB/s \n",
            "\u001b[?25h  Building wheel for pyspark (setup.py) ... \u001b[?25l\u001b[?25hdone\n"
          ],
          "name": "stdout"
        }
      ]
    },
    {
      "cell_type": "code",
      "metadata": {
        "id": "M8zEgbTgMgT2"
      },
      "source": [
        "import matplotlib.pyplot as plt\n",
        "import numpy as np\n",
        "import itertools\n",
        "from google.colab import drive, files\n",
        "from handyspark import BinaryClassificationMetrics\n",
        "\n",
        "from pyspark.sql.functions import udf\n",
        "from pyspark.sql.types import IntegerType\n",
        "from pyspark.ml import Pipeline\n",
        "from pyspark.ml.feature import SQLTransformer, StringIndexer, OneHotEncoder, VectorAssembler\n",
        "from pyspark.ml.evaluation import BinaryClassificationEvaluator\n",
        "from pyspark.ml.classification import DecisionTreeClassifier, RandomForestClassifier\n",
        "from pyspark.ml.tuning import CrossValidator, ParamGridBuilder\n",
        "from pyspark.ml.pipeline import PipelineModel"
      ],
      "execution_count": null,
      "outputs": []
    },
    {
      "cell_type": "markdown",
      "metadata": {
        "id": "P-eYvQ3By3nY"
      },
      "source": [
        "# Source codes"
      ]
    },
    {
      "cell_type": "markdown",
      "metadata": {
        "id": "Gt_U0L3WzFqm"
      },
      "source": [
        "Confusion Matrix Plotting"
      ]
    },
    {
      "cell_type": "code",
      "metadata": {
        "id": "bk8yCqjFy32G"
      },
      "source": [
        "# Source code for plotting confusion matrix is based on `plot_confusion_matrix`\n",
        "# via https://runawayhorse001.github.io/LearningApacheSpark/classification.html#decision-tree-classification\n",
        "# import matplotlib.pyplot as plt\n",
        "# import numpy as np\n",
        "# import itertools\n",
        "\n",
        "def plot_confusion_matrix(cm, title):\n",
        "  # Clear Plot\n",
        "  plt.gcf().clear()\n",
        "\n",
        "  # Configure figure\n",
        "  fig = plt.figure(1)\n",
        "\n",
        "  # Configure plot\n",
        "  classes = ['Fraud', 'No Fraud']\n",
        "  plt.imshow(cm, interpolation='nearest', cmap=plt.cm.Blues)\n",
        "  plt.title(title)\n",
        "  plt.colorbar()\n",
        "  tick_marks = np.arange(len(classes))\n",
        "  plt.xticks(tick_marks, classes, rotation=45)\n",
        "  plt.yticks(tick_marks, classes)\n",
        "\n",
        "  # Normalize and establish threshold\n",
        "  normalize=False\n",
        "  fmt = 'd'\n",
        "  thresh = cm.max() / 2.\n",
        "\n",
        "  # Iterate through the confusion matrix cells\n",
        "  for i, j in itertools.product(range(cm.shape[0]), range(cm.shape[1])):\n",
        "      plt.text(j, i, format(cm[i, j], fmt),\n",
        "               horizontalalignment=\"center\",\n",
        "               color=\"white\" if cm[i, j] > thresh else \"black\")\n",
        "\n",
        "  # Final plot configurations\n",
        "  plt.tight_layout()\n",
        "  plt.ylabel('True label')\n",
        "  plt.xlabel('Predicted label')\n",
        "\n",
        "  # Display images\n",
        "  image = fig\n",
        "\n",
        "  # Show plot\n",
        "  #fig = plt.show()\n",
        "\n",
        "  # Save plot\n",
        "  #fig.savefig(\"confusion-matrix.png\")\n",
        "\n",
        "  # Display Plot\n",
        "  display(image)\n",
        "\n",
        "  # Close Plot\n",
        "  plt.close(fig)"
      ],
      "execution_count": null,
      "outputs": []
    },
    {
      "cell_type": "markdown",
      "metadata": {
        "id": "UfbOHRe4BLit"
      },
      "source": [
        "# Importing Data"
      ]
    },
    {
      "cell_type": "code",
      "metadata": {
        "colab": {
          "base_uri": "https://localhost:8080/",
          "height": 600
        },
        "id": "5zOuYNmqBRtQ",
        "outputId": "60d6c3e3-4f8e-4ae1-a49f-5e23c0cf98bd"
      },
      "source": [
        "# from google.colab import drive\n",
        "drive.mount('/content/drive')"
      ],
      "execution_count": null,
      "outputs": [
        {
          "output_type": "error",
          "ename": "KeyboardInterrupt",
          "evalue": "ignored",
          "traceback": [
            "\u001b[0;31m---------------------------------------------------------------------------\u001b[0m",
            "\u001b[0;31mKeyboardInterrupt\u001b[0m                         Traceback (most recent call last)",
            "\u001b[0;32m/usr/local/lib/python3.7/dist-packages/ipykernel/kernelbase.py\u001b[0m in \u001b[0;36m_input_request\u001b[0;34m(self, prompt, ident, parent, password)\u001b[0m\n\u001b[1;32m    728\u001b[0m             \u001b[0;32mtry\u001b[0m\u001b[0;34m:\u001b[0m\u001b[0;34m\u001b[0m\u001b[0;34m\u001b[0m\u001b[0m\n\u001b[0;32m--> 729\u001b[0;31m                 \u001b[0mident\u001b[0m\u001b[0;34m,\u001b[0m \u001b[0mreply\u001b[0m \u001b[0;34m=\u001b[0m \u001b[0mself\u001b[0m\u001b[0;34m.\u001b[0m\u001b[0msession\u001b[0m\u001b[0;34m.\u001b[0m\u001b[0mrecv\u001b[0m\u001b[0;34m(\u001b[0m\u001b[0mself\u001b[0m\u001b[0;34m.\u001b[0m\u001b[0mstdin_socket\u001b[0m\u001b[0;34m,\u001b[0m \u001b[0;36m0\u001b[0m\u001b[0;34m)\u001b[0m\u001b[0;34m\u001b[0m\u001b[0;34m\u001b[0m\u001b[0m\n\u001b[0m\u001b[1;32m    730\u001b[0m             \u001b[0;32mexcept\u001b[0m \u001b[0mException\u001b[0m\u001b[0;34m:\u001b[0m\u001b[0;34m\u001b[0m\u001b[0;34m\u001b[0m\u001b[0m\n",
            "\u001b[0;32m/usr/local/lib/python3.7/dist-packages/jupyter_client/session.py\u001b[0m in \u001b[0;36mrecv\u001b[0;34m(self, socket, mode, content, copy)\u001b[0m\n\u001b[1;32m    802\u001b[0m         \u001b[0;32mtry\u001b[0m\u001b[0;34m:\u001b[0m\u001b[0;34m\u001b[0m\u001b[0;34m\u001b[0m\u001b[0m\n\u001b[0;32m--> 803\u001b[0;31m             \u001b[0mmsg_list\u001b[0m \u001b[0;34m=\u001b[0m \u001b[0msocket\u001b[0m\u001b[0;34m.\u001b[0m\u001b[0mrecv_multipart\u001b[0m\u001b[0;34m(\u001b[0m\u001b[0mmode\u001b[0m\u001b[0;34m,\u001b[0m \u001b[0mcopy\u001b[0m\u001b[0;34m=\u001b[0m\u001b[0mcopy\u001b[0m\u001b[0;34m)\u001b[0m\u001b[0;34m\u001b[0m\u001b[0;34m\u001b[0m\u001b[0m\n\u001b[0m\u001b[1;32m    804\u001b[0m         \u001b[0;32mexcept\u001b[0m \u001b[0mzmq\u001b[0m\u001b[0;34m.\u001b[0m\u001b[0mZMQError\u001b[0m \u001b[0;32mas\u001b[0m \u001b[0me\u001b[0m\u001b[0;34m:\u001b[0m\u001b[0;34m\u001b[0m\u001b[0;34m\u001b[0m\u001b[0m\n",
            "\u001b[0;32m/usr/local/lib/python3.7/dist-packages/zmq/sugar/socket.py\u001b[0m in \u001b[0;36mrecv_multipart\u001b[0;34m(self, flags, copy, track)\u001b[0m\n\u001b[1;32m    582\u001b[0m         \"\"\"\n\u001b[0;32m--> 583\u001b[0;31m         \u001b[0mparts\u001b[0m \u001b[0;34m=\u001b[0m \u001b[0;34m[\u001b[0m\u001b[0mself\u001b[0m\u001b[0;34m.\u001b[0m\u001b[0mrecv\u001b[0m\u001b[0;34m(\u001b[0m\u001b[0mflags\u001b[0m\u001b[0;34m,\u001b[0m \u001b[0mcopy\u001b[0m\u001b[0;34m=\u001b[0m\u001b[0mcopy\u001b[0m\u001b[0;34m,\u001b[0m \u001b[0mtrack\u001b[0m\u001b[0;34m=\u001b[0m\u001b[0mtrack\u001b[0m\u001b[0;34m)\u001b[0m\u001b[0;34m]\u001b[0m\u001b[0;34m\u001b[0m\u001b[0;34m\u001b[0m\u001b[0m\n\u001b[0m\u001b[1;32m    584\u001b[0m         \u001b[0;31m# have first part already, only loop while more to receive\u001b[0m\u001b[0;34m\u001b[0m\u001b[0;34m\u001b[0m\u001b[0;34m\u001b[0m\u001b[0m\n",
            "\u001b[0;32mzmq/backend/cython/socket.pyx\u001b[0m in \u001b[0;36mzmq.backend.cython.socket.Socket.recv\u001b[0;34m()\u001b[0m\n",
            "\u001b[0;32mzmq/backend/cython/socket.pyx\u001b[0m in \u001b[0;36mzmq.backend.cython.socket.Socket.recv\u001b[0;34m()\u001b[0m\n",
            "\u001b[0;32mzmq/backend/cython/socket.pyx\u001b[0m in \u001b[0;36mzmq.backend.cython.socket._recv_copy\u001b[0;34m()\u001b[0m\n",
            "\u001b[0;32m/usr/local/lib/python3.7/dist-packages/zmq/backend/cython/checkrc.pxd\u001b[0m in \u001b[0;36mzmq.backend.cython.checkrc._check_rc\u001b[0;34m()\u001b[0m\n",
            "\u001b[0;31mKeyboardInterrupt\u001b[0m: ",
            "\nDuring handling of the above exception, another exception occurred:\n",
            "\u001b[0;31mKeyboardInterrupt\u001b[0m                         Traceback (most recent call last)",
            "\u001b[0;32m<ipython-input-6-3cae3397ceb3>\u001b[0m in \u001b[0;36m<module>\u001b[0;34m()\u001b[0m\n\u001b[1;32m      1\u001b[0m \u001b[0;31m# from google.colab import drive\u001b[0m\u001b[0;34m\u001b[0m\u001b[0;34m\u001b[0m\u001b[0;34m\u001b[0m\u001b[0m\n\u001b[0;32m----> 2\u001b[0;31m \u001b[0mdrive\u001b[0m\u001b[0;34m.\u001b[0m\u001b[0mmount\u001b[0m\u001b[0;34m(\u001b[0m\u001b[0;34m'/content/drive'\u001b[0m\u001b[0;34m)\u001b[0m\u001b[0;34m\u001b[0m\u001b[0;34m\u001b[0m\u001b[0m\n\u001b[0m",
            "\u001b[0;32m/usr/local/lib/python3.7/dist-packages/google/colab/drive.py\u001b[0m in \u001b[0;36mmount\u001b[0;34m(mountpoint, force_remount, timeout_ms, use_metadata_server)\u001b[0m\n\u001b[1;32m    258\u001b[0m       \u001b[0;32mwith\u001b[0m \u001b[0m_output\u001b[0m\u001b[0;34m.\u001b[0m\u001b[0muse_tags\u001b[0m\u001b[0;34m(\u001b[0m\u001b[0;34m'dfs-auth-dance'\u001b[0m\u001b[0;34m)\u001b[0m\u001b[0;34m:\u001b[0m\u001b[0;34m\u001b[0m\u001b[0;34m\u001b[0m\u001b[0m\n\u001b[1;32m    259\u001b[0m         \u001b[0;32mwith\u001b[0m \u001b[0mopen\u001b[0m\u001b[0;34m(\u001b[0m\u001b[0mfifo\u001b[0m\u001b[0;34m,\u001b[0m \u001b[0;34m'w'\u001b[0m\u001b[0;34m)\u001b[0m \u001b[0;32mas\u001b[0m \u001b[0mfifo_file\u001b[0m\u001b[0;34m:\u001b[0m\u001b[0;34m\u001b[0m\u001b[0;34m\u001b[0m\u001b[0m\n\u001b[0;32m--> 260\u001b[0;31m           \u001b[0mfifo_file\u001b[0m\u001b[0;34m.\u001b[0m\u001b[0mwrite\u001b[0m\u001b[0;34m(\u001b[0m\u001b[0mget_code\u001b[0m\u001b[0;34m(\u001b[0m\u001b[0mauth_prompt\u001b[0m\u001b[0;34m)\u001b[0m \u001b[0;34m+\u001b[0m \u001b[0;34m'\\n'\u001b[0m\u001b[0;34m)\u001b[0m\u001b[0;34m\u001b[0m\u001b[0;34m\u001b[0m\u001b[0m\n\u001b[0m\u001b[1;32m    261\u001b[0m       \u001b[0mwrote_to_fifo\u001b[0m \u001b[0;34m=\u001b[0m \u001b[0;32mTrue\u001b[0m\u001b[0;34m\u001b[0m\u001b[0;34m\u001b[0m\u001b[0m\n\u001b[1;32m    262\u001b[0m     \u001b[0;32melif\u001b[0m \u001b[0mcase\u001b[0m \u001b[0;34m==\u001b[0m \u001b[0;36m5\u001b[0m\u001b[0;34m:\u001b[0m\u001b[0;34m\u001b[0m\u001b[0;34m\u001b[0m\u001b[0m\n",
            "\u001b[0;32m/usr/local/lib/python3.7/dist-packages/ipykernel/kernelbase.py\u001b[0m in \u001b[0;36mraw_input\u001b[0;34m(self, prompt)\u001b[0m\n\u001b[1;32m    702\u001b[0m             \u001b[0mself\u001b[0m\u001b[0;34m.\u001b[0m\u001b[0m_parent_ident\u001b[0m\u001b[0;34m,\u001b[0m\u001b[0;34m\u001b[0m\u001b[0;34m\u001b[0m\u001b[0m\n\u001b[1;32m    703\u001b[0m             \u001b[0mself\u001b[0m\u001b[0;34m.\u001b[0m\u001b[0m_parent_header\u001b[0m\u001b[0;34m,\u001b[0m\u001b[0;34m\u001b[0m\u001b[0;34m\u001b[0m\u001b[0m\n\u001b[0;32m--> 704\u001b[0;31m             \u001b[0mpassword\u001b[0m\u001b[0;34m=\u001b[0m\u001b[0;32mFalse\u001b[0m\u001b[0;34m,\u001b[0m\u001b[0;34m\u001b[0m\u001b[0;34m\u001b[0m\u001b[0m\n\u001b[0m\u001b[1;32m    705\u001b[0m         )\n\u001b[1;32m    706\u001b[0m \u001b[0;34m\u001b[0m\u001b[0m\n",
            "\u001b[0;32m/usr/local/lib/python3.7/dist-packages/ipykernel/kernelbase.py\u001b[0m in \u001b[0;36m_input_request\u001b[0;34m(self, prompt, ident, parent, password)\u001b[0m\n\u001b[1;32m    732\u001b[0m             \u001b[0;32mexcept\u001b[0m \u001b[0mKeyboardInterrupt\u001b[0m\u001b[0;34m:\u001b[0m\u001b[0;34m\u001b[0m\u001b[0;34m\u001b[0m\u001b[0m\n\u001b[1;32m    733\u001b[0m                 \u001b[0;31m# re-raise KeyboardInterrupt, to truncate traceback\u001b[0m\u001b[0;34m\u001b[0m\u001b[0;34m\u001b[0m\u001b[0;34m\u001b[0m\u001b[0m\n\u001b[0;32m--> 734\u001b[0;31m                 \u001b[0;32mraise\u001b[0m \u001b[0mKeyboardInterrupt\u001b[0m\u001b[0;34m\u001b[0m\u001b[0;34m\u001b[0m\u001b[0m\n\u001b[0m\u001b[1;32m    735\u001b[0m             \u001b[0;32melse\u001b[0m\u001b[0;34m:\u001b[0m\u001b[0;34m\u001b[0m\u001b[0;34m\u001b[0m\u001b[0m\n\u001b[1;32m    736\u001b[0m                 \u001b[0;32mbreak\u001b[0m\u001b[0;34m\u001b[0m\u001b[0;34m\u001b[0m\u001b[0m\n",
            "\u001b[0;31mKeyboardInterrupt\u001b[0m: "
          ]
        }
      ]
    },
    {
      "cell_type": "code",
      "metadata": {
        "id": "sgOfozf8FT96"
      },
      "source": [
        "dataset_path = '/content/drive/MyDrive/NYP ITD354'\n",
        "dataset_filename = 'PS_20174392719_1491204439457_log.csv'\n",
        "# hadoopmaster = \"hdfs://127.0.0.1:9000\"\n",
        "\n",
        "transactions = sparkSession \\\n",
        "               .read.option(\"header\", \"true\") \\\n",
        "               .option(\"delimiter\", \",\") \\\n",
        "               .option(\"inferSchema\", \"true\") \\\n",
        "               .csv(os.path.join(dataset_path, dataset_filename)) #.csv(hadoopmaster + \"/data/Covid-19-SG.csv\")"
      ],
      "execution_count": null,
      "outputs": []
    },
    {
      "cell_type": "markdown",
      "metadata": {
        "id": "nAyvOpZxGNhi"
      },
      "source": [
        "# EDA"
      ]
    },
    {
      "cell_type": "code",
      "metadata": {
        "colab": {
          "base_uri": "https://localhost:8080/"
        },
        "id": "qLpOh7qDIrG2",
        "outputId": "00a6f27b-5967-4f85-eda3-135da808a162"
      },
      "source": [
        "transactions.show(5)"
      ],
      "execution_count": null,
      "outputs": [
        {
          "output_type": "stream",
          "text": [
            "+----+--------+--------+-----------+-------------+--------------+-----------+--------------+--------------+-------+--------------+\n",
            "|step|    type|  amount|   nameOrig|oldbalanceOrg|newbalanceOrig|   nameDest|oldbalanceDest|newbalanceDest|isFraud|isFlaggedFraud|\n",
            "+----+--------+--------+-----------+-------------+--------------+-----------+--------------+--------------+-------+--------------+\n",
            "|   1| PAYMENT| 9839.64|C1231006815|     170136.0|     160296.36|M1979787155|           0.0|           0.0|      0|             0|\n",
            "|   1| PAYMENT| 1864.28|C1666544295|      21249.0|      19384.72|M2044282225|           0.0|           0.0|      0|             0|\n",
            "|   1|TRANSFER|   181.0|C1305486145|        181.0|           0.0| C553264065|           0.0|           0.0|      1|             0|\n",
            "|   1|CASH_OUT|   181.0| C840083671|        181.0|           0.0|  C38997010|       21182.0|           0.0|      1|             0|\n",
            "|   1| PAYMENT|11668.14|C2048537720|      41554.0|      29885.86|M1230701703|           0.0|           0.0|      0|             0|\n",
            "+----+--------+--------+-----------+-------------+--------------+-----------+--------------+--------------+-------+--------------+\n",
            "only showing top 5 rows\n",
            "\n"
          ],
          "name": "stdout"
        }
      ]
    },
    {
      "cell_type": "code",
      "metadata": {
        "colab": {
          "base_uri": "https://localhost:8080/"
        },
        "id": "zEA-RW5Sw6aD",
        "outputId": "32d205ab-cbe8-4873-9d55-2c5d6362d295"
      },
      "source": [
        "transactions.printSchema()"
      ],
      "execution_count": null,
      "outputs": [
        {
          "output_type": "stream",
          "text": [
            "root\n",
            " |-- step: integer (nullable = true)\n",
            " |-- type: string (nullable = true)\n",
            " |-- amount: double (nullable = true)\n",
            " |-- nameOrig: string (nullable = true)\n",
            " |-- oldbalanceOrg: double (nullable = true)\n",
            " |-- newbalanceOrig: double (nullable = true)\n",
            " |-- nameDest: string (nullable = true)\n",
            " |-- oldbalanceDest: double (nullable = true)\n",
            " |-- newbalanceDest: double (nullable = true)\n",
            " |-- isFraud: integer (nullable = true)\n",
            " |-- isFlaggedFraud: integer (nullable = true)\n",
            "\n"
          ],
          "name": "stdout"
        }
      ]
    },
    {
      "cell_type": "code",
      "metadata": {
        "colab": {
          "base_uri": "https://localhost:8080/"
        },
        "id": "dk7pbSKN-chR",
        "outputId": "e69302f5-cca6-492a-edb5-91f03792610a"
      },
      "source": [
        "transactions.count()"
      ],
      "execution_count": null,
      "outputs": [
        {
          "output_type": "execute_result",
          "data": {
            "text/plain": [
              "6362620"
            ]
          },
          "metadata": {
            "tags": []
          },
          "execution_count": 10
        }
      ]
    },
    {
      "cell_type": "code",
      "metadata": {
        "colab": {
          "base_uri": "https://localhost:8080/"
        },
        "id": "ZwP3Pzn8JUtB",
        "outputId": "5c0ce0d3-88b7-4b65-a774-968cb8ea5ae6"
      },
      "source": [
        "transactions.groupBy('type', 'isFraud').count().show()"
      ],
      "execution_count": null,
      "outputs": [
        {
          "output_type": "stream",
          "text": [
            "+--------+-------+-------+\n",
            "|    type|isFraud|  count|\n",
            "+--------+-------+-------+\n",
            "| PAYMENT|      0|2151495|\n",
            "|CASH_OUT|      0|2233384|\n",
            "|TRANSFER|      1|   4097|\n",
            "|CASH_OUT|      1|   4116|\n",
            "|   DEBIT|      0|  41432|\n",
            "| CASH_IN|      0|1399284|\n",
            "|TRANSFER|      0| 528812|\n",
            "+--------+-------+-------+\n",
            "\n"
          ],
          "name": "stdout"
        }
      ]
    },
    {
      "cell_type": "code",
      "metadata": {
        "colab": {
          "base_uri": "https://localhost:8080/"
        },
        "id": "ojeGX9VOGNtw",
        "outputId": "cd205f4f-fcd2-4a05-d438-f056195b8ff0"
      },
      "source": [
        "query = '''\n",
        "SELECT\n",
        "  type,\n",
        "  SUM(isFraud) AS numFraud,\n",
        "  ROUND(SUM(amount * isFraud) / 1000000) AS fraudMil,\n",
        "  COUNT(1) AS totalTransactions,\n",
        "  ROUND(SUM(amount / 1000000)) AS transactionsMil\n",
        "FROM __THIS__\n",
        "GROUP BY type\n",
        "ORDER BY numFraud, totalTransactions DESC\n",
        "'''\n",
        "sqlTrans = SQLTransformer(statement=query)\n",
        "sqlTrans.transform(transactions).show()"
      ],
      "execution_count": null,
      "outputs": [
        {
          "output_type": "stream",
          "text": [
            "+--------+--------+--------+-----------------+---------------+\n",
            "|    type|numFraud|fraudMil|totalTransactions|transactionsMil|\n",
            "+--------+--------+--------+-----------------+---------------+\n",
            "| PAYMENT|       0|     0.0|          2151495|        28093.0|\n",
            "| CASH_IN|       0|     0.0|          1399284|       236367.0|\n",
            "|   DEBIT|       0|     0.0|            41432|          227.0|\n",
            "|TRANSFER|    4097|  6067.0|           532909|       485292.0|\n",
            "|CASH_OUT|    4116|  5989.0|          2237500|       394413.0|\n",
            "+--------+--------+--------+-----------------+---------------+\n",
            "\n"
          ],
          "name": "stdout"
        }
      ]
    },
    {
      "cell_type": "code",
      "metadata": {
        "colab": {
          "base_uri": "https://localhost:8080/"
        },
        "id": "ZmrNrxjRQQ0_",
        "outputId": "f0511d0b-500e-48b2-e352-6613376fdd47"
      },
      "source": [
        "query = '''\n",
        "SELECT type, COUNT(1) AS numOrigMerchant\n",
        "FROM __THIS__\n",
        "WHERE nameOrig LIKE 'M%'\n",
        "GROUP BY type\n",
        "'''\n",
        "sqlTrans = SQLTransformer(statement=query)\n",
        "sqlTrans.transform(transactions).show()\n",
        "\n",
        "query = '''\n",
        "SELECT type, COUNT(nameDest LIKE 'M%') AS numDestMerchant\n",
        "FROM __THIS__\n",
        "WHERE nameDest LIKE 'M%'\n",
        "GROUP BY type\n",
        "'''\n",
        "sqlTrans = SQLTransformer(statement=query)\n",
        "sqlTrans.transform(transactions).show()"
      ],
      "execution_count": null,
      "outputs": [
        {
          "output_type": "stream",
          "text": [
            "+----+---------------+\n",
            "|type|numOrigMerchant|\n",
            "+----+---------------+\n",
            "+----+---------------+\n",
            "\n",
            "+-------+---------------+\n",
            "|   type|numDestMerchant|\n",
            "+-------+---------------+\n",
            "|PAYMENT|        2151495|\n",
            "+-------+---------------+\n",
            "\n"
          ],
          "name": "stdout"
        }
      ]
    },
    {
      "cell_type": "markdown",
      "metadata": {
        "id": "gD4kp3ryO9p1"
      },
      "source": [
        "# Preprocessing"
      ]
    },
    {
      "cell_type": "markdown",
      "metadata": {
        "id": "67LOMCTppZHR"
      },
      "source": [
        "## Creating features for difference in balance"
      ]
    },
    {
      "cell_type": "code",
      "metadata": {
        "id": "f-T3opETS-I7"
      },
      "source": [
        "transactions = transactions\\\n",
        "               .withColumn('origDiff', transactions['newbalanceOrig'] - transactions['oldbalanceOrg']) \\\n",
        "               .withColumn('destDiff', transactions['newbalanceDest'] - transactions['oldbalanceDest'])\n",
        "\n",
        "transactions.show(5)"
      ],
      "execution_count": null,
      "outputs": []
    },
    {
      "cell_type": "markdown",
      "metadata": {
        "id": "qB6kSlVOR56y"
      },
      "source": [
        "## Encoding of 'nameOrig' and 'nameDest' (skipped)"
      ]
    },
    {
      "cell_type": "code",
      "metadata": {
        "colab": {
          "base_uri": "https://localhost:8080/"
        },
        "id": "tnZYsBebMbeG",
        "outputId": "b37dba45-a325-43b2-a4e1-087286f0a7da"
      },
      "source": [
        "# from pyspark.sql.functions import udf\n",
        "# from pyspark.sql.types import IntegerType\n",
        "\n",
        "def is_merchant(name):\n",
        "  return 1 if name[0]=='M' else 0\n",
        "\n",
        "is_merchant_udf = udf(is_merchant, IntegerType())\n",
        "\n",
        "transactions = transactions \\\n",
        "               .withColumn('isOrigMerchant', is_merchant_udf(transactions['nameOrig'])) \\\n",
        "               .withColumn('isDestMerchant', is_merchant_udf(transactions['nameDest']))\n",
        "\n",
        "transactions.show(5)"
      ],
      "execution_count": null,
      "outputs": [
        {
          "output_type": "stream",
          "text": [
            "+----+--------+--------+-----------+-------------+--------------+-----------+--------------+--------------+-------+--------------+-------------------+---------+----------------+----------------+\n",
            "|step|    type|  amount|   nameOrig|oldbalanceOrg|newbalanceOrig|   nameDest|oldbalanceDest|newbalanceDest|isFraud|isFlaggedFraud|          Orig_diff|Dest_diff|is_Orig_merchant|is_Dest_merchant|\n",
            "+----+--------+--------+-----------+-------------+--------------+-----------+--------------+--------------+-------+--------------+-------------------+---------+----------------+----------------+\n",
            "|   1| PAYMENT| 9839.64|C1231006815|     170136.0|     160296.36|M1979787155|           0.0|           0.0|      0|             0| -9839.640000000014|      0.0|               0|               1|\n",
            "|   1| PAYMENT| 1864.28|C1666544295|      21249.0|      19384.72|M2044282225|           0.0|           0.0|      0|             0|-1864.2799999999988|      0.0|               0|               1|\n",
            "|   1|TRANSFER|   181.0|C1305486145|        181.0|           0.0| C553264065|           0.0|           0.0|      1|             0|             -181.0|      0.0|               0|               0|\n",
            "|   1|CASH_OUT|   181.0| C840083671|        181.0|           0.0|  C38997010|       21182.0|           0.0|      1|             0|             -181.0| -21182.0|               0|               0|\n",
            "|   1| PAYMENT|11668.14|C2048537720|      41554.0|      29885.86|M1230701703|           0.0|           0.0|      0|             0|          -11668.14|      0.0|               0|               1|\n",
            "+----+--------+--------+-----------+-------------+--------------+-----------+--------------+--------------+-------+--------------+-------------------+---------+----------------+----------------+\n",
            "only showing top 5 rows\n",
            "\n"
          ],
          "name": "stdout"
        }
      ]
    },
    {
      "cell_type": "markdown",
      "metadata": {
        "id": "Z3UlXgTo67oY"
      },
      "source": [
        "## Train-Test Split"
      ]
    },
    {
      "cell_type": "markdown",
      "metadata": {
        "id": "j6GMH2TUPD0r"
      },
      "source": [
        "Split by time-step instead of shuffling and drawing random samples as the transactions are may be related to one another with respect to time."
      ]
    },
    {
      "cell_type": "code",
      "metadata": {
        "colab": {
          "base_uri": "https://localhost:8080/"
        },
        "id": "KgpbrSbIzAGN",
        "outputId": "7ad6a2a0-9667-41aa-ad1e-2f30514adc13"
      },
      "source": [
        "train = transactions.filter(transactions['step'] <= 335)\n",
        "test = transactions.filter(transactions['step'] > 335)\n",
        "\n",
        "# Cache the training and test datasets\n",
        "train.cache()\n",
        "test.cache()\n",
        "\n",
        "print('train size:\\t', train.count())\n",
        "print('test size:\\t', test.count())"
      ],
      "execution_count": null,
      "outputs": [
        {
          "output_type": "stream",
          "text": [
            "train size:\t 4781843\n",
            "test size:\t 1580777\n"
          ],
          "name": "stdout"
        }
      ]
    },
    {
      "cell_type": "markdown",
      "metadata": {
        "id": "G7NknD4jFiKB"
      },
      "source": [
        "## Balancing classes on train set (skipped)"
      ]
    },
    {
      "cell_type": "markdown",
      "metadata": {
        "id": "8BbXtoAng8tE"
      },
      "source": [
        "Undersampling of non-fraud cases\\\n",
        "Skipped as undersampling resulted in worse results from too much information lost."
      ]
    },
    {
      "cell_type": "code",
      "metadata": {
        "colab": {
          "base_uri": "https://localhost:8080/"
        },
        "id": "21I9pl7rFiQ4",
        "outputId": "ddb0e742-029c-4b65-aeff-a3273d7fc1d9"
      },
      "source": [
        "# Reset the DataFrames for no fraud (`dfn`) and fraud (`dfy`)\n",
        "dfn = train.filter(train['isFraud'] == 0)\n",
        "dfy = train.filter(train['isFraud'] == 1)\n",
        "\n",
        "# Calculate summary metrics\n",
        "N = train.count()\n",
        "y = dfy.count()\n",
        "p = y/N\n",
        "\n",
        "# Create a more balanced training dataset\n",
        "train = dfn.sample(False, p, seed = 1234).union(dfy)\n",
        "train = train.cache()\n",
        "\n",
        "# Print out metrics\n",
        "print(\"Total count: %s, Fraud cases count: %s, Proportion of fraud cases: %s\" % (N, y, p))\n",
        "print(\"Balanced training dataset count: %s\" % train.count())"
      ],
      "execution_count": null,
      "outputs": [
        {
          "output_type": "stream",
          "text": [
            "Total count: 4781843, Fraud cases count: 3749, Proportion of fraud cases: 0.000784007337756593\n",
            "Balanced training dataset count: 7379\n"
          ],
          "name": "stdout"
        }
      ]
    },
    {
      "cell_type": "markdown",
      "metadata": {
        "id": "IbHk5cO91REs"
      },
      "source": [
        "## Common pipeline stages"
      ]
    },
    {
      "cell_type": "code",
      "metadata": {
        "id": "bMIsTGIfyk0W"
      },
      "source": [
        "# from pyspark.ml import Pipeline\n",
        "# from pyspark.ml.feature import StringIndexer, OneHotEncoder, VectorAssembler\n",
        "\n",
        "# Encodes a string column of labels to a column of label indices\n",
        "indexer = StringIndexer(inputCol = \"type\", outputCol = \"typeIdx\")\n",
        "\n",
        "# One-hot encoding\n",
        "encoder = OneHotEncoder(inputCol = \"typeIdx\", outputCol = \"typeOhe\")\n",
        "\n",
        "# VectorAssembler is a transformer that combines a given list of columns into a single vector column\n",
        "features_names = [\n",
        "  \"typeOhe\", \"amount\", #\"is_Dest_merchant\",\n",
        "  \"oldbalanceOrg\", \"newbalanceOrig\", \"origDiff\",\n",
        "  \"oldbalanceDest\", \"newbalanceDest\", \"destDiff\",\n",
        "]\n",
        "assembler = VectorAssembler(inputCols = features_names, outputCol = \"features\")"
      ],
      "execution_count": null,
      "outputs": []
    },
    {
      "cell_type": "code",
      "metadata": {
        "id": "5gHEuR6I5Aa0"
      },
      "source": [
        "# from pyspark.ml.evaluation import BinaryClassificationEvaluator\n",
        "\n",
        "# Use BinaryClassificationEvaluator to evaluate our model\n",
        "evaluatorPR = BinaryClassificationEvaluator(labelCol = \"isFraud\", rawPredictionCol = \"probability\", metricName = \"areaUnderPR\")\n",
        "evaluatorAUC = BinaryClassificationEvaluator(labelCol = \"isFraud\", rawPredictionCol = \"probability\", metricName = \"areaUnderROC\")"
      ],
      "execution_count": null,
      "outputs": []
    },
    {
      "cell_type": "markdown",
      "metadata": {
        "id": "ZAVgYn7hy_8e"
      },
      "source": [
        "# Modeling"
      ]
    },
    {
      "cell_type": "markdown",
      "metadata": {
        "id": "f6l24KGB0VDG"
      },
      "source": [
        "## Decision Tree"
      ]
    },
    {
      "cell_type": "markdown",
      "metadata": {
        "id": "sSGsUypF5Xwl"
      },
      "source": [
        "### Cross Validation"
      ]
    },
    {
      "cell_type": "code",
      "metadata": {
        "id": "b73q-ofJ5X_C"
      },
      "source": [
        "# from pyspark.ml.classification import DecisionTreeClassifier\n",
        "# from pyspark.ml.tuning import CrossValidator, ParamGridBuilder\n",
        "\n",
        "# Using the DecisionTree classifier model\n",
        "dt = DecisionTreeClassifier(labelCol=\"isFraud\", featuresCol=\"features\", seed=1234)\n",
        "\n",
        "# Build the grid of different parameters\n",
        "paramGrid = ParamGridBuilder() \\\n",
        "            .addGrid(dt.maxDepth, [5, 10, 12, 15]) \\\n",
        "            .addGrid(dt.maxBins, [16, 32, 64, 128, 256]) \\\n",
        "            .build()\n",
        "\n",
        "# Build out the cross validation\n",
        "crossval = CrossValidator(estimator = dt,\n",
        "                          estimatorParamMaps = paramGrid,\n",
        "                          evaluator = evaluatorPR,\n",
        "                          numFolds = 3)\n",
        "\n",
        "pipelineCV = Pipeline(stages=[indexer, encoder, assembler, crossval])\n",
        "\n",
        "# Train the model using the pipeline, parameter grid, and preceding BinaryClassificationEvaluator\n",
        "cvModel = pipelineCV.fit(train)"
      ],
      "execution_count": null,
      "outputs": []
    },
    {
      "cell_type": "code",
      "metadata": {
        "colab": {
          "base_uri": "https://localhost:8080/"
        },
        "id": "w9NwLuvunKbQ",
        "outputId": "e57f7f0d-fb6d-4d3f-921d-c08df3bd3c9c"
      },
      "source": [
        "# Build the best model (training and test datasets)\n",
        "train_pred = cvModel.transform(train)\n",
        "test_pred = cvModel.transform(test)\n",
        "\n",
        "# Evaluate the model on training datasets\n",
        "pr_train = evaluatorPR.evaluate(train_pred)\n",
        "auc_train = evaluatorAUC.evaluate(train_pred)\n",
        "\n",
        "# Evaluate the model on test datasets\n",
        "pr_test = evaluatorPR.evaluate(test_pred)\n",
        "auc_test = evaluatorAUC.evaluate(test_pred)\n",
        "\n",
        "# Print out the PR and AUC values\n",
        "print(\"PR train:\", pr_train)\n",
        "print(\"AUC train:\", auc_train)\n",
        "print(\"PR test:\", pr_test)\n",
        "print(\"AUC test:\", auc_test)"
      ],
      "execution_count": null,
      "outputs": [
        {
          "output_type": "stream",
          "text": [
            "PR train: 0.8419168653872782\n",
            "AUC train: 0.9985495903488629\n",
            "PR test: 0.8816996883732031\n",
            "AUC test: 0.9912325718880082\n"
          ],
          "name": "stdout"
        }
      ]
    },
    {
      "cell_type": "code",
      "metadata": {
        "colab": {
          "base_uri": "https://localhost:8080/"
        },
        "id": "vS0_B5QtSB2z",
        "outputId": "4875cb51-f65f-406e-829a-d52a507df07a"
      },
      "source": [
        "# CV parameters\n",
        "cv_MaxDepth = cvModel.stages[-1].bestModel.getMaxDepth()\n",
        "cv_MaxBins = cvModel.stages[-1].bestModel.getMaxBins()\n",
        "\n",
        "print('max depth:', cv_MaxDepth)\n",
        "print('max bins:', cv_MaxBins)"
      ],
      "execution_count": null,
      "outputs": [
        {
          "output_type": "stream",
          "text": [
            "max depth: 12\n",
            "max bins: 128\n"
          ],
          "name": "stdout"
        }
      ]
    },
    {
      "cell_type": "markdown",
      "metadata": {
        "id": "C8HeW3N04kpU"
      },
      "source": [
        "### Final Model"
      ]
    },
    {
      "cell_type": "code",
      "metadata": {
        "id": "rwnCxueU0ZZH"
      },
      "source": [
        "# from pyspark.ml.classification import DecisionTreeClassifier\n",
        "\n",
        "# Using the DecisionTree classifier model\n",
        "dt = DecisionTreeClassifier(labelCol=\"isFraud\", featuresCol=\"features\", seed=1234,\n",
        "                            maxDepth=12, maxBins=128)\n",
        "\n",
        "# Create our pipeline stages\n",
        "pipeline = Pipeline(stages=[indexer, encoder, assembler, dt])\n",
        "\n",
        "# Train the Decision Tree model\n",
        "dt_model = pipeline.fit(train)"
      ],
      "execution_count": null,
      "outputs": []
    },
    {
      "cell_type": "code",
      "metadata": {
        "colab": {
          "base_uri": "https://localhost:8080/"
        },
        "id": "36fxULeVz4Dd",
        "outputId": "21a6ec5c-aa09-4f8f-91e5-efc55e0c9369"
      },
      "source": [
        "# Build the best model (training and test datasets)\n",
        "train_pred = dt_model.transform(train)\n",
        "test_pred = dt_model.transform(test)\n",
        "\n",
        "# Evaluate the model on training datasets\n",
        "pr_train = evaluatorPR.evaluate(train_pred)\n",
        "auc_train = evaluatorAUC.evaluate(train_pred)\n",
        "\n",
        "# Evaluate the model on test datasets\n",
        "pr_test = evaluatorPR.evaluate(test_pred)\n",
        "auc_test = evaluatorAUC.evaluate(test_pred)\n",
        "\n",
        "# Print out the PR and AUC values\n",
        "print(\"PR train:\", pr_train)\n",
        "print(\"AUC train:\", auc_train)\n",
        "print(\"PR test:\", pr_test)\n",
        "print(\"AUC test:\", auc_test)"
      ],
      "execution_count": null,
      "outputs": [
        {
          "output_type": "stream",
          "text": [
            "PR train: 0.8419168653872782\n",
            "AUC train: 0.9985495903488629\n",
            "PR test: 0.8816996883732031\n",
            "AUC test: 0.9912325718880082\n"
          ],
          "name": "stdout"
        }
      ]
    },
    {
      "cell_type": "markdown",
      "metadata": {
        "id": "MLeZcIE-q3hJ"
      },
      "source": [
        "Visualisation"
      ]
    },
    {
      "cell_type": "code",
      "metadata": {
        "colab": {
          "base_uri": "https://localhost:8080/"
        },
        "id": "cdvvKT_Kq_gS",
        "outputId": "ca6856a8-7ea8-4651-92eb-593407875c00"
      },
      "source": [
        "# !pip install -q handyspark"
      ],
      "execution_count": null,
      "outputs": [
        {
          "output_type": "stream",
          "text": [
            "\u001b[K     |████████████████████████████████| 212.4 MB 68 kB/s \n",
            "\u001b[K     |████████████████████████████████| 198 kB 55.0 MB/s \n",
            "\u001b[?25h  Building wheel for pyspark (setup.py) ... \u001b[?25l\u001b[?25hdone\n"
          ],
          "name": "stdout"
        }
      ]
    },
    {
      "cell_type": "code",
      "metadata": {
        "colab": {
          "base_uri": "https://localhost:8080/",
          "height": 346
        },
        "id": "AlU689cPqJHQ",
        "outputId": "69091097-9bc4-4f9c-8ce3-9fac7098a132"
      },
      "source": [
        "# from handyspark import BinaryClassificationMetrics\n",
        "# import matplotlib.pyplot as plt\n",
        "\n",
        "test_pred = dt_model.transform(test)\n",
        "\n",
        "bcm = BinaryClassificationMetrics(test_pred, scoreCol='probability', labelCol='isFraud')\n",
        "\n",
        "# We still can get the same metrics as the evaluator...\n",
        "print(\"Area under ROC Curve: {:.4f}\".format(bcm.areaUnderROC))\n",
        "print(\"Area under PR Curve: {:.4f}\".format(bcm.areaUnderPR))\n",
        "\n",
        "# But now we can PLOT both ROC and PR curves!\n",
        "fig, axs = plt.subplots(1, 2, figsize=(12, 4))\n",
        "bcm.plot_roc_curve(ax=axs[0])\n",
        "bcm.plot_pr_curve(ax=axs[1])"
      ],
      "execution_count": null,
      "outputs": [
        {
          "output_type": "stream",
          "text": [
            "Area under ROC Curve: 0.9912\n",
            "Area under PR Curve: 0.8817\n"
          ],
          "name": "stdout"
        },
        {
          "output_type": "execute_result",
          "data": {
            "text/plain": [
              "<matplotlib.axes._subplots.AxesSubplot at 0x7efe3f43c950>"
            ]
          },
          "metadata": {
            "tags": []
          },
          "execution_count": 35
        },
        {
          "output_type": "display_data",
          "data": {
            "image/png": "[encoded data removed]",
            "text/plain": [
              "<Figure size 864x288 with 2 Axes>"
            ]
          },
          "metadata": {
            "tags": [],
            "needs_background": "light"
          }
        }
      ]
    },
    {
      "cell_type": "markdown",
      "metadata": {
        "id": "1CnMpk7P54DA"
      },
      "source": [
        "Confusion Matrix"
      ]
    },
    {
      "cell_type": "code",
      "metadata": {
        "id": "yNeoTeAv54NI",
        "colab": {
          "base_uri": "https://localhost:8080/",
          "height": 311
        },
        "outputId": "5e53c699-fb60-4a0f-b48b-e4d0fe375fa8"
      },
      "source": [
        "test_pred = dt_model.transform(test)\n",
        "\n",
        "yy = test_pred.filter(test_pred['isFraud']==1).filter(test_pred['prediction']==1).count()\n",
        "yn = test_pred.filter(test_pred['isFraud']==1).filter(test_pred['prediction']==0).count()\n",
        "ny = test_pred.filter(test_pred['isFraud']==0).filter(test_pred['prediction']==1).count()\n",
        "nn = test_pred.filter(test_pred['isFraud']==0).filter(test_pred['prediction']==0).count()\n",
        "\n",
        "cm = np.array([[yy, yn], [ny, nn]])\n",
        "plot_confusion_matrix(cm, \"Confusion Matrix\\nDecision Tree\")"
      ],
      "execution_count": null,
      "outputs": [
        {
          "output_type": "display_data",
          "data": {
            "image/png": "[encoded data removed]",
            "text/plain": [
              "<Figure size 432x288 with 2 Axes>"
            ]
          },
          "metadata": {
            "tags": []
          }
        }
      ]
    },
    {
      "cell_type": "markdown",
      "metadata": {
        "id": "2NSUo8u15koC"
      },
      "source": [
        "Threshold Adjustment\\\n",
        "Note that this should be done on dev set and not test set"
      ]
    },
    {
      "cell_type": "code",
      "metadata": {
        "colab": {
          "base_uri": "https://localhost:8080/",
          "height": 297
        },
        "id": "x1XfE3Vi4Q2p",
        "outputId": "b80b7b2d-f3ad-4416-fffb-981395d49634"
      },
      "source": [
        "bcm.getMetricsByThreshold().filter('fpr between 0.05 and 0.2').toPandas()\n",
        "bcm.getMetricsByThreshold().filter('recall between 0.8 and 0.85').toPandas()\n",
        "bcm.getMetricsByThreshold().filter('precision between 0.9 and 0.95').toPandas()"
      ],
      "execution_count": null,
      "outputs": [
        {
          "output_type": "execute_result",
          "data": {
            "text/html": [
              "<div>\n",
              "<style scoped>\n",
              "    .dataframe tbody tr th:only-of-type {\n",
              "        vertical-align: middle;\n",
              "    }\n",
              "\n",
              "    .dataframe tbody tr th {\n",
              "        vertical-align: top;\n",
              "    }\n",
              "\n",
              "    .dataframe thead th {\n",
              "        text-align: right;\n",
              "    }\n",
              "</style>\n",
              "<table border=\"1\" class=\"dataframe\">\n",
              "  <thead>\n",
              "    <tr style=\"text-align: right;\">\n",
              "      <th></th>\n",
              "      <th>threshold</th>\n",
              "      <th>fpr</th>\n",
              "      <th>recall</th>\n",
              "      <th>precision</th>\n",
              "    </tr>\n",
              "  </thead>\n",
              "  <tbody>\n",
              "    <tr>\n",
              "      <th>0</th>\n",
              "      <td>0.159314</td>\n",
              "      <td>0.000117</td>\n",
              "      <td>0.782482</td>\n",
              "      <td>0.949701</td>\n",
              "    </tr>\n",
              "    <tr>\n",
              "      <th>1</th>\n",
              "      <td>0.145570</td>\n",
              "      <td>0.000148</td>\n",
              "      <td>0.787634</td>\n",
              "      <td>0.937600</td>\n",
              "    </tr>\n",
              "    <tr>\n",
              "      <th>2</th>\n",
              "      <td>0.142857</td>\n",
              "      <td>0.000150</td>\n",
              "      <td>0.788978</td>\n",
              "      <td>0.936951</td>\n",
              "    </tr>\n",
              "    <tr>\n",
              "      <th>3</th>\n",
              "      <td>0.109375</td>\n",
              "      <td>0.000164</td>\n",
              "      <td>0.791891</td>\n",
              "      <td>0.931980</td>\n",
              "    </tr>\n",
              "    <tr>\n",
              "      <th>4</th>\n",
              "      <td>0.104478</td>\n",
              "      <td>0.000176</td>\n",
              "      <td>0.794355</td>\n",
              "      <td>0.927544</td>\n",
              "    </tr>\n",
              "    <tr>\n",
              "      <th>5</th>\n",
              "      <td>0.071429</td>\n",
              "      <td>0.000199</td>\n",
              "      <td>0.795475</td>\n",
              "      <td>0.918996</td>\n",
              "    </tr>\n",
              "    <tr>\n",
              "      <th>6</th>\n",
              "      <td>0.068493</td>\n",
              "      <td>0.000211</td>\n",
              "      <td>0.797043</td>\n",
              "      <td>0.914653</td>\n",
              "    </tr>\n",
              "    <tr>\n",
              "      <th>7</th>\n",
              "      <td>0.062780</td>\n",
              "      <td>0.000248</td>\n",
              "      <td>0.802643</td>\n",
              "      <td>0.901610</td>\n",
              "    </tr>\n",
              "  </tbody>\n",
              "</table>\n",
              "</div>"
            ],
            "text/plain": [
              "   threshold       fpr    recall  precision\n",
              "0   0.159314  0.000117  0.782482   0.949701\n",
              "1   0.145570  0.000148  0.787634   0.937600\n",
              "2   0.142857  0.000150  0.788978   0.936951\n",
              "3   0.109375  0.000164  0.791891   0.931980\n",
              "4   0.104478  0.000176  0.794355   0.927544\n",
              "5   0.071429  0.000199  0.795475   0.918996\n",
              "6   0.068493  0.000211  0.797043   0.914653\n",
              "7   0.062780  0.000248  0.802643   0.901610"
            ]
          },
          "metadata": {
            "tags": []
          },
          "execution_count": 47
        }
      ]
    },
    {
      "cell_type": "markdown",
      "metadata": {
        "id": "OUDUeW-Cw_Ms"
      },
      "source": [
        "Decision Tree Rules or Plot (TBC...)"
      ]
    },
    {
      "cell_type": "code",
      "metadata": {
        "id": "01GzGaOww_XP"
      },
      "source": [],
      "execution_count": null,
      "outputs": []
    },
    {
      "cell_type": "markdown",
      "metadata": {
        "id": "oiubKvr6hgwj"
      },
      "source": [
        "### Saving"
      ]
    },
    {
      "cell_type": "markdown",
      "metadata": {
        "id": "vrwkwIxOnzwx"
      },
      "source": [
        "Save model to current lab session. Files will be deleted once session terminates."
      ]
    },
    {
      "cell_type": "code",
      "metadata": {
        "id": "4xNYRoi6nz6o"
      },
      "source": [
        "dt_model.save('decision_tree')"
      ],
      "execution_count": null,
      "outputs": []
    },
    {
      "cell_type": "markdown",
      "metadata": {
        "id": "OdFUmlvwn-jX"
      },
      "source": [
        "Zip folder"
      ]
    },
    {
      "cell_type": "code",
      "metadata": {
        "id": "kdqOabLQn-sZ"
      },
      "source": [
        "!zip -r -q decision_tree decision_tree"
      ],
      "execution_count": null,
      "outputs": []
    },
    {
      "cell_type": "markdown",
      "metadata": {
        "id": "Mpy6K3U9oDhv"
      },
      "source": [
        "Save zipped folder to ITD354 shared folder in google drive"
      ]
    },
    {
      "cell_type": "code",
      "metadata": {
        "id": "PATHBcIRoDp6"
      },
      "source": [
        "cp 'decision_tree.zip' '/content/drive/MyDrive/NYP ITD354'"
      ],
      "execution_count": null,
      "outputs": []
    },
    {
      "cell_type": "markdown",
      "metadata": {
        "id": "lNavM8Q6jgtB"
      },
      "source": [
        "Download zipped folder to personal device"
      ]
    },
    {
      "cell_type": "code",
      "metadata": {
        "id": "ktZm8eZRj5Cx",
        "colab": {
          "base_uri": "https://localhost:8080/",
          "height": 17
        },
        "outputId": "2380ea55-a889-4d9c-a4c3-da3439438ae1"
      },
      "source": [
        "# from google.colab import files\n",
        "files.download(\"decision_tree.zip\")"
      ],
      "execution_count": null,
      "outputs": [
        {
          "output_type": "display_data",
          "data": {
            "application/javascript": [
              "\n",
              "    async function download(id, filename, size) {\n",
              "      if (!google.colab.kernel.accessAllowed) {\n",
              "        return;\n",
              "      }\n",
              "      const div = document.createElement('div');\n",
              "      const label = document.createElement('label');\n",
              "      label.textContent = `Downloading \"${filename}\": `;\n",
              "      div.appendChild(label);\n",
              "      const progress = document.createElement('progress');\n",
              "      progress.max = size;\n",
              "      div.appendChild(progress);\n",
              "      document.body.appendChild(div);\n",
              "\n",
              "      const buffers = [];\n",
              "      let downloaded = 0;\n",
              "\n",
              "      const channel = await google.colab.kernel.comms.open(id);\n",
              "      // Send a message to notify the kernel that we're ready.\n",
              "      channel.send({})\n",
              "\n",
              "      for await (const message of channel.messages) {\n",
              "        // Send a message to notify the kernel that we're ready.\n",
              "        channel.send({})\n",
              "        if (message.buffers) {\n",
              "          for (const buffer of message.buffers) {\n",
              "            buffers.push(buffer);\n",
              "            downloaded += buffer.byteLength;\n",
              "            progress.value = downloaded;\n",
              "          }\n",
              "        }\n",
              "      }\n",
              "      const blob = new Blob(buffers, {type: 'application/binary'});\n",
              "      const a = document.createElement('a');\n",
              "      a.href = window.URL.createObjectURL(blob);\n",
              "      a.download = filename;\n",
              "      div.appendChild(a);\n",
              "      a.click();\n",
              "      div.remove();\n",
              "    }\n",
              "  "
            ],
            "text/plain": [
              "<IPython.core.display.Javascript object>"
            ]
          },
          "metadata": {
            "tags": []
          }
        },
        {
          "output_type": "display_data",
          "data": {
            "application/javascript": [
              "download(\"download_f3a13d59-5687-4e49-bb0d-a0b8e576c046\", \"decision_tree.zip\", 27529)"
            ],
            "text/plain": [
              "<IPython.core.display.Javascript object>"
            ]
          },
          "metadata": {
            "tags": []
          }
        }
      ]
    },
    {
      "cell_type": "markdown",
      "metadata": {
        "id": "IOWsI3Y3o3uC"
      },
      "source": [
        "### Loading"
      ]
    },
    {
      "cell_type": "markdown",
      "metadata": {
        "id": "Wa5aVHXGlSIE"
      },
      "source": [
        "Upload zippped file to current lab session"
      ]
    },
    {
      "cell_type": "code",
      "metadata": {
        "id": "4AdULj8NlYcK"
      },
      "source": [
        "# from google.colab import files\n",
        "files.upload()"
      ],
      "execution_count": null,
      "outputs": []
    },
    {
      "cell_type": "markdown",
      "metadata": {
        "id": "By0nJHagpDso"
      },
      "source": [
        "Copy folder from google drive"
      ]
    },
    {
      "cell_type": "code",
      "metadata": {
        "id": "P7uJwupwpD9m"
      },
      "source": [
        "cp '/content/drive/MyDrive/NYP ITD354/decision_tree.zip' '/content'"
      ],
      "execution_count": null,
      "outputs": []
    },
    {
      "cell_type": "markdown",
      "metadata": {
        "id": "iO0lbuHrpTnJ"
      },
      "source": [
        "Unzip folder in current lab session"
      ]
    },
    {
      "cell_type": "code",
      "metadata": {
        "id": "Im-yBAtgpS1n"
      },
      "source": [
        "!unzip decision_tree.zip"
      ],
      "execution_count": null,
      "outputs": []
    },
    {
      "cell_type": "markdown",
      "metadata": {
        "id": "rdDUS7bIlgc4"
      },
      "source": [
        "Load model from current lab session"
      ]
    },
    {
      "cell_type": "code",
      "metadata": {
        "id": "tclDkMQwdBsH"
      },
      "source": [
        "# from pyspark.ml.pipeline import PipelineModel\n",
        "dt_model = PipelineModel.load('decision_tree/')"
      ],
      "execution_count": null,
      "outputs": []
    },
    {
      "cell_type": "markdown",
      "metadata": {
        "id": "29_uzBSq8Muo"
      },
      "source": [
        "## Random Forests"
      ]
    },
    {
      "cell_type": "markdown",
      "metadata": {
        "id": "-RTiaPnB8X62"
      },
      "source": [
        "### Cross Validation"
      ]
    },
    {
      "cell_type": "code",
      "metadata": {
        "id": "DBQdpJyF8X63"
      },
      "source": [
        "# from pyspark.ml.classification import RandomForestClassifier\n",
        "# from pyspark.ml.tuning import CrossValidator, ParamGridBuilder\n",
        "\n",
        "# Using the RandomForest classifier model\n",
        "rf = RandomForestClassifier(labelCol=\"isFraud\", featuresCol=\"features\", seed=1234)\n",
        "\n",
        "# Build the grid of different parameters\n",
        "paramGrid = ParamGridBuilder() \\\n",
        "            .addGrid(rf.numTrees, [15, 20, 25, 30]) \\\n",
        "            .addGrid(rf.subsamplingRate, [1]) \\\n",
        "            .addGrid(rf.maxDepth, [12]) \\\n",
        "            .addGrid(rf.maxBins, [128]) \\\n",
        "            .build()\n",
        "\n",
        "# Build out the cross validation\n",
        "crossval = CrossValidator(estimator = rf,\n",
        "                          estimatorParamMaps = paramGrid,\n",
        "                          evaluator = evaluatorPR,\n",
        "                          numFolds = 3)\n",
        "\n",
        "pipelineCV = Pipeline(stages=[indexer, encoder, assembler, crossval])\n",
        "\n",
        "# Train the model using the pipeline, parameter grid, and preceding BinaryClassificationEvaluator\n",
        "cvModel = pipelineCV.fit(train)"
      ],
      "execution_count": null,
      "outputs": []
    },
    {
      "cell_type": "code",
      "metadata": {
        "id": "3RX4-Wz-8X64",
        "colab": {
          "base_uri": "https://localhost:8080/"
        },
        "outputId": "53e375fd-1de2-48bd-9353-7706fbb9e29d"
      },
      "source": [
        "# Build the best model (training and test datasets)\n",
        "train_pred = cvModel.transform(train)\n",
        "test_pred = cvModel.transform(test)\n",
        "\n",
        "# Evaluate the model on training datasets\n",
        "pr_train = evaluatorPR.evaluate(train_pred)\n",
        "auc_train = evaluatorAUC.evaluate(train_pred)\n",
        "\n",
        "# Evaluate the model on test datasets\n",
        "pr_test = evaluatorPR.evaluate(test_pred)\n",
        "auc_test = evaluatorAUC.evaluate(test_pred)\n",
        "\n",
        "# Print out the PR and AUC values\n",
        "print(\"PR train:\", pr_train)\n",
        "print(\"AUC train:\", auc_train)\n",
        "print(\"PR test:\", pr_test)\n",
        "print(\"AUC test:\", auc_test)"
      ],
      "execution_count": null,
      "outputs": [
        {
          "output_type": "stream",
          "text": [
            "PR train: 0.8761108402753527\n",
            "AUC train: 0.9989280406554017\n",
            "PR test: 0.9167609615884521\n",
            "AUC test: 0.999332353179284\n"
          ],
          "name": "stdout"
        }
      ]
    },
    {
      "cell_type": "code",
      "metadata": {
        "id": "5Ru-tiuM8X65",
        "colab": {
          "base_uri": "https://localhost:8080/"
        },
        "outputId": "3318659a-08fb-4d63-d6c3-4ce91246a0ef"
      },
      "source": [
        "# CV parameters\n",
        "cv_NumTrees = cvModel.stages[-1].bestModel.getNumTrees\n",
        "cv_SubsamplingRate = cvModel.stages[-1].bestModel.getSubsamplingRate()\n",
        "cv_MaxDepth = cvModel.stages[-1].bestModel.getMaxDepth()\n",
        "cv_MaxBins = cvModel.stages[-1].bestModel.getMaxBins()\n",
        "\n",
        "print('num trees:', cv_NumTrees)\n",
        "print('subsampling rate:', cv_SubsamplingRate)\n",
        "print('max depth:', cv_MaxDepth)\n",
        "print('max bins:', cv_MaxBins)"
      ],
      "execution_count": null,
      "outputs": [
        {
          "output_type": "stream",
          "text": [
            "num trees: 25\n",
            "subsampling rate: 1.0\n",
            "max depth: 12\n",
            "max bins: 128\n"
          ],
          "name": "stdout"
        }
      ]
    },
    {
      "cell_type": "markdown",
      "metadata": {
        "id": "D35t3v5z8X66"
      },
      "source": [
        "### Final Model"
      ]
    },
    {
      "cell_type": "code",
      "metadata": {
        "id": "rNKrTTuu8X67"
      },
      "source": [
        "# from pyspark.ml.classification import RandomForestClassifier\n",
        "\n",
        "# Using the RandomForest classifier model\n",
        "rf = RandomForestClassifier(labelCol=\"isFraud\", featuresCol=\"features\", seed=1234,\n",
        "                            numTrees=30, subsamplingRate=1, maxDepth=12, maxBins=128)\n",
        "\n",
        "# Create our pipeline stages\n",
        "pipeline = Pipeline(stages=[indexer, encoder, assembler, rf])\n",
        "\n",
        "# Train the Random Forest model\n",
        "rf_model = pipeline.fit(train)"
      ],
      "execution_count": null,
      "outputs": []
    },
    {
      "cell_type": "code",
      "metadata": {
        "colab": {
          "base_uri": "https://localhost:8080/"
        },
        "id": "exIGojm3d4o4",
        "outputId": "ea38816b-3ab4-4f9c-c7e2-9953ac1c5077"
      },
      "source": [
        "# Build the best model (training and test datasets)\n",
        "train_pred = rf_model.transform(train)\n",
        "test_pred = rf_model.transform(test)\n",
        "\n",
        "# Evaluate the model on training datasets\n",
        "pr_train = evaluatorPR.evaluate(train_pred)\n",
        "auc_train = evaluatorAUC.evaluate(train_pred)\n",
        "\n",
        "# Evaluate the model on test datasets\n",
        "pr_test = evaluatorPR.evaluate(test_pred)\n",
        "auc_test = evaluatorAUC.evaluate(test_pred)\n",
        "\n",
        "# Print out the PR and AUC values\n",
        "print(\"PR train:\", pr_train)\n",
        "print(\"AUC train:\", auc_train)\n",
        "print(\"PR test:\", pr_test)\n",
        "print(\"AUC test:\", auc_test)"
      ],
      "execution_count": null,
      "outputs": [
        {
          "output_type": "stream",
          "text": [
            "PR train: 0.8823783382627436\n",
            "AUC train: 0.9989251364638136\n",
            "PR test: 0.9202127952408582\n",
            "AUC test: 0.9994104156270684\n"
          ],
          "name": "stdout"
        }
      ]
    },
    {
      "cell_type": "markdown",
      "metadata": {
        "id": "UiZfjR-28X68"
      },
      "source": [
        "Visualisation"
      ]
    },
    {
      "cell_type": "code",
      "metadata": {
        "colab": {
          "base_uri": "https://localhost:8080/"
        },
        "id": "vQRGwHmT8X69",
        "outputId": "4288122b-e648-4cf7-8f8b-df3e4183ff76"
      },
      "source": [
        "# !pip install -q handyspark"
      ],
      "execution_count": null,
      "outputs": [
        {
          "output_type": "stream",
          "text": [
            "\u001b[K     |████████████████████████████████| 212.4 MB 70 kB/s \n",
            "\u001b[K     |████████████████████████████████| 198 kB 60.8 MB/s \n",
            "\u001b[?25h  Building wheel for pyspark (setup.py) ... \u001b[?25l\u001b[?25hdone\n"
          ],
          "name": "stdout"
        }
      ]
    },
    {
      "cell_type": "code",
      "metadata": {
        "id": "G9sky73P8X6-",
        "colab": {
          "base_uri": "https://localhost:8080/",
          "height": 346
        },
        "outputId": "8ebbb806-904d-4702-830c-524e621feab6"
      },
      "source": [
        "# from handyspark import BinaryClassificationMetrics\n",
        "# import matplotlib.pyplot as plt\n",
        "\n",
        "test_pred = rf_model.transform(test)\n",
        "\n",
        "bcm = BinaryClassificationMetrics(test_pred, scoreCol='probability', labelCol='isFraud')\n",
        "\n",
        "# We still can get the same metrics as the evaluator...\n",
        "print(\"Area under ROC Curve: {:.4f}\".format(bcm.areaUnderROC))\n",
        "print(\"Area under PR Curve: {:.4f}\".format(bcm.areaUnderPR))\n",
        "\n",
        "# But now we can PLOT both ROC and PR curves!\n",
        "fig, axs = plt.subplots(1, 2, figsize=(12, 4))\n",
        "bcm.plot_roc_curve(ax=axs[0])\n",
        "bcm.plot_pr_curve(ax=axs[1])"
      ],
      "execution_count": null,
      "outputs": [
        {
          "output_type": "stream",
          "text": [
            "Area under ROC Curve: 0.9994\n",
            "Area under PR Curve: 0.9202\n"
          ],
          "name": "stdout"
        },
        {
          "output_type": "execute_result",
          "data": {
            "text/plain": [
              "<matplotlib.axes._subplots.AxesSubplot at 0x7efe4cf8d910>"
            ]
          },
          "metadata": {
            "tags": []
          },
          "execution_count": 15
        },
        {
          "output_type": "display_data",
          "data": {
            "image/png": "[encoded data removed]",
            "text/plain": [
              "<Figure size 864x288 with 2 Axes>"
            ]
          },
          "metadata": {
            "tags": [],
            "needs_background": "light"
          }
        }
      ]
    },
    {
      "cell_type": "markdown",
      "metadata": {
        "id": "mUeeO2Re8X7A"
      },
      "source": [
        "Confusion Matrix"
      ]
    },
    {
      "cell_type": "code",
      "metadata": {
        "colab": {
          "base_uri": "https://localhost:8080/",
          "height": 311
        },
        "id": "DtZg1kj3xSlu",
        "outputId": "2c657252-8627-463f-ac5b-f03a72754a33"
      },
      "source": [
        "test_pred = rf_model.transform(test)\n",
        "\n",
        "yy = test_pred.filter(test_pred['isFraud']==1).filter(test_pred['prediction']==1).count()\n",
        "yn = test_pred.filter(test_pred['isFraud']==1).filter(test_pred['prediction']==0).count()\n",
        "ny = test_pred.filter(test_pred['isFraud']==0).filter(test_pred['prediction']==1).count()\n",
        "nn = test_pred.filter(test_pred['isFraud']==0).filter(test_pred['prediction']==0).count()\n",
        "\n",
        "cm = np.array([[yy, yn], [ny, nn]])\n",
        "plot_confusion_matrix(cm, \"Confusion Matrix\\nRandom Forest\")"
      ],
      "execution_count": null,
      "outputs": [
        {
          "output_type": "display_data",
          "data": {
            "image/png": "[encoded data removed]",
            "text/plain": [
              "<Figure size 432x288 with 2 Axes>"
            ]
          },
          "metadata": {
            "tags": []
          }
        }
      ]
    },
    {
      "cell_type": "markdown",
      "metadata": {
        "id": "pwj90Qop8X6_"
      },
      "source": [
        "Threshold Adjustment\\\n",
        "Note that this should be done on dev set and not test set"
      ]
    },
    {
      "cell_type": "code",
      "metadata": {
        "id": "yjIfkFpt8X6_"
      },
      "source": [
        "bcm.getMetricsByThreshold().filter('fpr between 0 and 0.2').toPandas()\n",
        "bcm.getMetricsByThreshold().filter('recall between 0.5 and 0.8').toPandas()\n",
        "bcm.getMetricsByThreshold().filter('precision between 0.5 and 0.8').toPandas()"
      ],
      "execution_count": null,
      "outputs": []
    },
    {
      "cell_type": "markdown",
      "metadata": {
        "id": "t4LzV92A8X7A"
      },
      "source": [
        "### Saving"
      ]
    },
    {
      "cell_type": "markdown",
      "metadata": {
        "id": "RiVQDljF8X7A"
      },
      "source": [
        "Save model to current lab session. Files will be deleted once session terminates."
      ]
    },
    {
      "cell_type": "code",
      "metadata": {
        "id": "AXLYZPWi8X7A"
      },
      "source": [
        "rf_model.save('random_forest')"
      ],
      "execution_count": null,
      "outputs": []
    },
    {
      "cell_type": "markdown",
      "metadata": {
        "id": "Jfk9Id0B8X7B"
      },
      "source": [
        "Zip folder"
      ]
    },
    {
      "cell_type": "code",
      "metadata": {
        "id": "e0tRUCGl8X7B"
      },
      "source": [
        "!zip -r -q random_forest random_forest"
      ],
      "execution_count": null,
      "outputs": []
    },
    {
      "cell_type": "markdown",
      "metadata": {
        "id": "1J0BbeVA8X7B"
      },
      "source": [
        "Save zipped folder to ITD354 shared folder in google drive"
      ]
    },
    {
      "cell_type": "code",
      "metadata": {
        "id": "zcP7Eg8Q8X7B"
      },
      "source": [
        "cp 'random_forest.zip' '/content/drive/MyDrive/NYP ITD354'"
      ],
      "execution_count": null,
      "outputs": []
    },
    {
      "cell_type": "markdown",
      "metadata": {
        "id": "uSidxSf28X7B"
      },
      "source": [
        "Download zipped folder to personal device"
      ]
    },
    {
      "cell_type": "code",
      "metadata": {
        "id": "QtgR_GD_8X7B",
        "colab": {
          "base_uri": "https://localhost:8080/",
          "height": 17
        },
        "outputId": "a8e2c5c9-3325-44c2-c934-7362b1fb5ae0"
      },
      "source": [
        "# from google.colab import files\n",
        "files.download(\"random_forest.zip\")"
      ],
      "execution_count": null,
      "outputs": [
        {
          "output_type": "display_data",
          "data": {
            "application/javascript": [
              "\n",
              "    async function download(id, filename, size) {\n",
              "      if (!google.colab.kernel.accessAllowed) {\n",
              "        return;\n",
              "      }\n",
              "      const div = document.createElement('div');\n",
              "      const label = document.createElement('label');\n",
              "      label.textContent = `Downloading \"${filename}\": `;\n",
              "      div.appendChild(label);\n",
              "      const progress = document.createElement('progress');\n",
              "      progress.max = size;\n",
              "      div.appendChild(progress);\n",
              "      document.body.appendChild(div);\n",
              "\n",
              "      const buffers = [];\n",
              "      let downloaded = 0;\n",
              "\n",
              "      const channel = await google.colab.kernel.comms.open(id);\n",
              "      // Send a message to notify the kernel that we're ready.\n",
              "      channel.send({})\n",
              "\n",
              "      for await (const message of channel.messages) {\n",
              "        // Send a message to notify the kernel that we're ready.\n",
              "        channel.send({})\n",
              "        if (message.buffers) {\n",
              "          for (const buffer of message.buffers) {\n",
              "            buffers.push(buffer);\n",
              "            downloaded += buffer.byteLength;\n",
              "            progress.value = downloaded;\n",
              "          }\n",
              "        }\n",
              "      }\n",
              "      const blob = new Blob(buffers, {type: 'application/binary'});\n",
              "      const a = document.createElement('a');\n",
              "      a.href = window.URL.createObjectURL(blob);\n",
              "      a.download = filename;\n",
              "      div.appendChild(a);\n",
              "      a.click();\n",
              "      div.remove();\n",
              "    }\n",
              "  "
            ],
            "text/plain": [
              "<IPython.core.display.Javascript object>"
            ]
          },
          "metadata": {
            "tags": []
          }
        },
        {
          "output_type": "display_data",
          "data": {
            "application/javascript": [
              "download(\"download_cb9a661c-27df-41b7-9d09-9b38d492324b\", \"random_forest.zip\", 223594)"
            ],
            "text/plain": [
              "<IPython.core.display.Javascript object>"
            ]
          },
          "metadata": {
            "tags": []
          }
        }
      ]
    },
    {
      "cell_type": "markdown",
      "metadata": {
        "id": "vL-piMDR8X7C"
      },
      "source": [
        "### Loading"
      ]
    },
    {
      "cell_type": "markdown",
      "metadata": {
        "id": "eb3tDm9n8X7C"
      },
      "source": [
        "Upload zippped file to current lab session"
      ]
    },
    {
      "cell_type": "code",
      "metadata": {
        "id": "QIhVAKxn8X7C"
      },
      "source": [
        "# from google.colab import files\n",
        "files.upload()"
      ],
      "execution_count": null,
      "outputs": []
    },
    {
      "cell_type": "markdown",
      "metadata": {
        "id": "rSWGAW-78X7C"
      },
      "source": [
        "Copy folder from google drive"
      ]
    },
    {
      "cell_type": "code",
      "metadata": {
        "id": "YDLjvW4B8X7C"
      },
      "source": [
        "cp '/content/drive/MyDrive/NYP ITD354/random_forest.zip' '/content'"
      ],
      "execution_count": null,
      "outputs": []
    },
    {
      "cell_type": "markdown",
      "metadata": {
        "id": "D4wD2jdz8X7C"
      },
      "source": [
        "Unzip folder in current lab session"
      ]
    },
    {
      "cell_type": "code",
      "metadata": {
        "id": "5nlrh8-I8X7D"
      },
      "source": [
        "!unzip random_forest.zip"
      ],
      "execution_count": null,
      "outputs": []
    },
    {
      "cell_type": "markdown",
      "metadata": {
        "id": "6DtFITXB8X7D"
      },
      "source": [
        "Load model from current lab session"
      ]
    },
    {
      "cell_type": "code",
      "metadata": {
        "id": "iHwRMpps8X7D"
      },
      "source": [
        "# from pyspark.ml.pipeline import PipelineModel\n",
        "rf_model = PipelineModel.load('random_forest/')"
      ],
      "execution_count": null,
      "outputs": []
    },
    {
      "cell_type": "markdown",
      "metadata": {
        "id": "_FFXsfr66kvQ"
      },
      "source": [
        "## MLP"
      ]
    },
    {
      "cell_type": "code",
      "metadata": {
        "id": "pkow1QDvRURO"
      },
      "source": [
        "# from pyspark.ml import Pipeline\n",
        "# from pyspark.ml.feature import StringIndexer, OneHotEncoder, VectorAssembler\n",
        "from pyspark.ml.feature import StandardScaler\n",
        "from pyspark.ml.feature import MaxAbsScaler\n",
        "\n",
        "# Encodes a string column of labels to a column of label indices\n",
        "indexer = StringIndexer(inputCol = \"type\", outputCol = \"type_idx\")\n",
        "\n",
        "# One-hot encoding\n",
        "encoder = OneHotEncoder(inputCol=\"type_idx\", outputCol=\"type_ohe\")\n",
        "\n",
        "# VectorAssembler is a transformer that combines a given list of columns into a single vector column\n",
        "cts_features_names = [\n",
        "  \"amount\",\n",
        "  \"oldbalanceOrg\", \"newbalanceOrig\", \"Orig_diff\",\n",
        "  \"oldbalanceDest\", \"newbalanceDest\", \"Dest_diff\",\n",
        "]\n",
        "cts_assembler = VectorAssembler(inputCols = cts_features_names, outputCol = \"unscaledFeatures\")\n",
        "\n",
        "scaler = StandardScaler(inputCol = \"unscaledFeatures\", outputCol = \"scaledFeatures\",\n",
        "                        withMean=True, withStd=True)\n",
        "# scaler = MaxAbsScaler(inputCol = \"unscaledFeatures\", outputCol = \"scaledFeatures\")\n",
        "\n",
        "final_assembler = VectorAssembler(inputCols = [\"scaledFeatures\", \"type_ohe\"], outputCol = \"features\")"
      ],
      "execution_count": null,
      "outputs": []
    },
    {
      "cell_type": "markdown",
      "metadata": {
        "id": "IO1HnwDg6kvQ"
      },
      "source": [
        "### Cross Validation"
      ]
    },
    {
      "cell_type": "code",
      "metadata": {
        "id": "zEecdZlp6kvQ"
      },
      "source": [
        "from pyspark.ml.classification import MultilayerPerceptronClassifier\n",
        "# from pyspark.ml.tuning import CrossValidator, ParamGridBuilder\n",
        "\n",
        "# Using the RandomForest classifier model\n",
        "mlp = MultilayerPerceptronClassifier(labelCol=\"isFraud\", featuresCol=\"features\", seed=1234)\n",
        "\n",
        "# Build the grid of different parameters\n",
        "paramGrid = ParamGridBuilder() \\\n",
        "            .addGrid(mlp.layers, [[11, 5, 2], [11, 8, 5, 2]]) \\\n",
        "            .addGrid(mlp.blockSize, [32, 64, 128]) \\\n",
        "            .build()\n",
        "\n",
        "# Build out the cross validation\n",
        "crossval = CrossValidator(estimator = rf,\n",
        "                          estimatorParamMaps = paramGrid,\n",
        "                          evaluator = evaluatorPR,\n",
        "                          numFolds = 3)\n",
        "\n",
        "pipelineCV = Pipeline(stages=[indexer, encoder, cts_assembler, scaler, final_assembler, crossval])\n",
        "\n",
        "# Train the model using the pipeline, parameter grid, and preceding BinaryClassificationEvaluator\n",
        "cvModel = pipelineCV.fit(train)"
      ],
      "execution_count": null,
      "outputs": []
    },
    {
      "cell_type": "code",
      "metadata": {
        "id": "4c_TLteh6kvQ"
      },
      "source": [
        "# Build the best model (training and test datasets)\n",
        "train_pred = cvModel.transform(train)\n",
        "test_pred = cvModel.transform(test)\n",
        "\n",
        "# Evaluate the model on training datasets\n",
        "pr_train = evaluatorPR.evaluate(train_pred)\n",
        "auc_train = evaluatorAUC.evaluate(train_pred)\n",
        "\n",
        "# Evaluate the model on test datasets\n",
        "pr_test = evaluatorPR.evaluate(test_pred)\n",
        "auc_test = evaluatorAUC.evaluate(test_pred)\n",
        "\n",
        "# Print out the PR and AUC values\n",
        "print(\"PR train:\", pr_train)\n",
        "print(\"AUC train:\", auc_train)\n",
        "print(\"PR test:\", pr_test)\n",
        "print(\"AUC test:\", auc_test)"
      ],
      "execution_count": null,
      "outputs": []
    },
    {
      "cell_type": "code",
      "metadata": {
        "id": "aiiW80gf6kvQ"
      },
      "source": [
        "# CV parameters\n",
        "cv_Layers = cvModel.stages[-1].bestModel.getLayers()\n",
        "cv_BlockSize = cvModel.stages[-1].bestModel.getBlockSize()\n",
        "\n",
        "print('layers:', cv_Layers)\n",
        "print('block size:', cv_BlockSize)"
      ],
      "execution_count": null,
      "outputs": []
    },
    {
      "cell_type": "markdown",
      "metadata": {
        "id": "VX9QeMFR6kvQ"
      },
      "source": [
        "### Final Model"
      ]
    },
    {
      "cell_type": "code",
      "metadata": {
        "id": "0ZatiD9O6kvR"
      },
      "source": [
        "from pyspark.ml.classification import MultilayerPerceptronClassifier\n",
        "\n",
        "# Using the RandomForest classifier model\n",
        "mlp = MultilayerPerceptronClassifier(labelCol=\"isFraud\", featuresCol=\"features\", seed=1234,\n",
        "                                     layers=[11, 5, 2], blockSize=128, stepSize=0.3)\n",
        "\n",
        "# Create our pipeline stages\n",
        "pipeline = Pipeline(stages=[indexer, encoder, cts_assembler, scaler, final_assembler, mlp])\n",
        "\n",
        "# Train the Random Forest model\n",
        "mlp_model = pipeline.fit(train)"
      ],
      "execution_count": null,
      "outputs": []
    },
    {
      "cell_type": "code",
      "metadata": {
        "colab": {
          "base_uri": "https://localhost:8080/"
        },
        "id": "zKAusfe-kSeC",
        "outputId": "23a045ae-6e2a-4fcd-dfba-bc1e9947e77a"
      },
      "source": [
        "# Build the best model (training and test datasets)\n",
        "train_pred = mlp_model.transform(train)\n",
        "test_pred = mlp_model.transform(test)\n",
        "\n",
        "# Evaluate the model on training datasets\n",
        "pr_train = evaluatorPR.evaluate(train_pred)\n",
        "auc_train = evaluatorAUC.evaluate(train_pred)\n",
        "\n",
        "# Evaluate the model on test datasets\n",
        "pr_test = evaluatorPR.evaluate(test_pred)\n",
        "auc_test = evaluatorAUC.evaluate(test_pred)\n",
        "\n",
        "# Print out the PR and AUC values\n",
        "print(\"PR train:\", pr_train)\n",
        "print(\"AUC train:\", auc_train)\n",
        "print(\"PR test:\", pr_test)\n",
        "print(\"AUC test:\", auc_test)"
      ],
      "execution_count": null,
      "outputs": [
        {
          "output_type": "stream",
          "text": [
            "PR train: 0.5715960737298619\n",
            "AUC train: 0.9946399914205764\n",
            "PR test: 0.904302077033853\n",
            "AUC test: 0.9929031995638913\n"
          ],
          "name": "stdout"
        }
      ]
    },
    {
      "cell_type": "markdown",
      "metadata": {
        "id": "taDrLUsZ6kvR"
      },
      "source": [
        "Visualisation"
      ]
    },
    {
      "cell_type": "code",
      "metadata": {
        "id": "4XkUKZrs6kvR"
      },
      "source": [
        "# !pip install -q handyspark"
      ],
      "execution_count": null,
      "outputs": []
    },
    {
      "cell_type": "code",
      "metadata": {
        "id": "vS9x_v8x6kvR",
        "colab": {
          "base_uri": "https://localhost:8080/",
          "height": 346
        },
        "outputId": "635bf6b1-da5e-4b8a-cd66-0c4e9c309e8c"
      },
      "source": [
        "# from handyspark import BinaryClassificationMetrics\n",
        "# import matplotlib.pyplot as plt\n",
        "\n",
        "test_pred = mlp_model.transform(test)\n",
        "\n",
        "bcm = BinaryClassificationMetrics(test_pred, scoreCol='probability', labelCol='isFraud')\n",
        "\n",
        "# We still can get the same metrics as the evaluator...\n",
        "print(\"Area under ROC Curve: {:.4f}\".format(bcm.areaUnderROC))\n",
        "print(\"Area under PR Curve: {:.4f}\".format(bcm.areaUnderPR))\n",
        "\n",
        "# But now we can PLOT both ROC and PR curves!\n",
        "fig, axs = plt.subplots(1, 2, figsize=(12, 4))\n",
        "bcm.plot_roc_curve(ax=axs[0])\n",
        "bcm.plot_pr_curve(ax=axs[1])"
      ],
      "execution_count": null,
      "outputs": [
        {
          "output_type": "stream",
          "text": [
            "Area under ROC Curve: 0.9929\n",
            "Area under PR Curve: 0.9043\n"
          ],
          "name": "stdout"
        },
        {
          "output_type": "execute_result",
          "data": {
            "text/plain": [
              "<matplotlib.axes._subplots.AxesSubplot at 0x7f71398c0d90>"
            ]
          },
          "metadata": {
            "tags": []
          },
          "execution_count": 67
        },
        {
          "output_type": "display_data",
          "data": {
            "image/png": "[encoded data removed]",
            "text/plain": [
              "<Figure size 864x288 with 2 Axes>"
            ]
          },
          "metadata": {
            "tags": [],
            "needs_background": "light"
          }
        }
      ]
    },
    {
      "cell_type": "markdown",
      "metadata": {
        "id": "MDL6hYH16kvR"
      },
      "source": [
        "Confusion Matrix"
      ]
    },
    {
      "cell_type": "code",
      "metadata": {
        "id": "5RWGutk06kvR",
        "colab": {
          "base_uri": "https://localhost:8080/",
          "height": 311
        },
        "outputId": "829fd516-c79e-44f4-9850-b29ca54d0258"
      },
      "source": [
        "test_pred = mlp_model.transform(test)\n",
        "\n",
        "yy = test_pred.filter(test_pred['isFraud']==1).filter(test_pred['prediction']==1).count()\n",
        "yn = test_pred.filter(test_pred['isFraud']==1).filter(test_pred['prediction']==0).count()\n",
        "ny = test_pred.filter(test_pred['isFraud']==0).filter(test_pred['prediction']==1).count()\n",
        "nn = test_pred.filter(test_pred['isFraud']==0).filter(test_pred['prediction']==0).count()\n",
        "\n",
        "cm = np.array([[yy, yn], [ny, nn]])\n",
        "plot_confusion_matrix(cm, \"Confusion Matrix\\nMultilayer Perceptron\")"
      ],
      "execution_count": null,
      "outputs": [
        {
          "output_type": "display_data",
          "data": {
            "image/png": "[encoded data removed]",
            "text/plain": [
              "<Figure size 432x288 with 2 Axes>"
            ]
          },
          "metadata": {
            "tags": []
          }
        }
      ]
    },
    {
      "cell_type": "markdown",
      "metadata": {
        "id": "BOwqrzxz6kvR"
      },
      "source": [
        "Threshold Adjustment\\\n",
        "Note that this should be done on dev set and not test set"
      ]
    },
    {
      "cell_type": "code",
      "metadata": {
        "id": "eIOFSAwo6kvR"
      },
      "source": [
        "bcm.getMetricsByThreshold().filter('fpr between 0 and 0.2').toPandas()\n",
        "bcm.getMetricsByThreshold().filter('recall between 0.5 and 0.8').toPandas()\n",
        "bcm.getMetricsByThreshold().filter('precision between 0.5 and 0.8').toPandas()"
      ],
      "execution_count": null,
      "outputs": []
    },
    {
      "cell_type": "markdown",
      "metadata": {
        "id": "ZtwIPE8q6kvS"
      },
      "source": [
        "### Saving"
      ]
    },
    {
      "cell_type": "markdown",
      "metadata": {
        "id": "6IhAuCUW6kvS"
      },
      "source": [
        "Save model to current lab session. Files will be deleted once session terminates."
      ]
    },
    {
      "cell_type": "code",
      "metadata": {
        "id": "IUrcSRXo6kvS"
      },
      "source": [
        "mlp_model.save('multilayer_perceptron')"
      ],
      "execution_count": null,
      "outputs": []
    },
    {
      "cell_type": "markdown",
      "metadata": {
        "id": "MFKLkCoX6kvS"
      },
      "source": [
        "Zip folder"
      ]
    },
    {
      "cell_type": "code",
      "metadata": {
        "id": "LovCdeZ86kvS"
      },
      "source": [
        "!zip -r -q multilayer_perceptron multilayer_perceptron"
      ],
      "execution_count": null,
      "outputs": []
    },
    {
      "cell_type": "markdown",
      "metadata": {
        "id": "MrR4hruv6kvS"
      },
      "source": [
        "Save zipped folder to ITD354 shared folder in google drive"
      ]
    },
    {
      "cell_type": "code",
      "metadata": {
        "id": "UKzEUi036kvS"
      },
      "source": [
        "cp 'multilayer_perceptron.zip' '/content/drive/MyDrive/NYP ITD354'"
      ],
      "execution_count": null,
      "outputs": []
    },
    {
      "cell_type": "markdown",
      "metadata": {
        "id": "IlbeFnN46kvS"
      },
      "source": [
        "Download zipped folder to personal device"
      ]
    },
    {
      "cell_type": "code",
      "metadata": {
        "colab": {
          "base_uri": "https://localhost:8080/",
          "height": 17
        },
        "id": "O46jVWpY6kvS",
        "outputId": "7457ec30-daeb-4a99-92f9-8b65216dc33c"
      },
      "source": [
        "# from google.colab import files\n",
        "files.download(\"multilayer_perceptron.zip\")"
      ],
      "execution_count": null,
      "outputs": [
        {
          "output_type": "display_data",
          "data": {
            "application/javascript": [
              "\n",
              "    async function download(id, filename, size) {\n",
              "      if (!google.colab.kernel.accessAllowed) {\n",
              "        return;\n",
              "      }\n",
              "      const div = document.createElement('div');\n",
              "      const label = document.createElement('label');\n",
              "      label.textContent = `Downloading \"${filename}\": `;\n",
              "      div.appendChild(label);\n",
              "      const progress = document.createElement('progress');\n",
              "      progress.max = size;\n",
              "      div.appendChild(progress);\n",
              "      document.body.appendChild(div);\n",
              "\n",
              "      const buffers = [];\n",
              "      let downloaded = 0;\n",
              "\n",
              "      const channel = await google.colab.kernel.comms.open(id);\n",
              "      // Send a message to notify the kernel that we're ready.\n",
              "      channel.send({})\n",
              "\n",
              "      for await (const message of channel.messages) {\n",
              "        // Send a message to notify the kernel that we're ready.\n",
              "        channel.send({})\n",
              "        if (message.buffers) {\n",
              "          for (const buffer of message.buffers) {\n",
              "            buffers.push(buffer);\n",
              "            downloaded += buffer.byteLength;\n",
              "            progress.value = downloaded;\n",
              "          }\n",
              "        }\n",
              "      }\n",
              "      const blob = new Blob(buffers, {type: 'application/binary'});\n",
              "      const a = document.createElement('a');\n",
              "      a.href = window.URL.createObjectURL(blob);\n",
              "      a.download = filename;\n",
              "      div.appendChild(a);\n",
              "      a.click();\n",
              "      div.remove();\n",
              "    }\n",
              "  "
            ],
            "text/plain": [
              "<IPython.core.display.Javascript object>"
            ]
          },
          "metadata": {
            "tags": []
          }
        },
        {
          "output_type": "display_data",
          "data": {
            "application/javascript": [
              "download(\"download_c796ed96-0a73-4f52-9308-8627bef99ec0\", \"multilayer_perceptron.zip\", 22952)"
            ],
            "text/plain": [
              "<IPython.core.display.Javascript object>"
            ]
          },
          "metadata": {
            "tags": []
          }
        }
      ]
    },
    {
      "cell_type": "markdown",
      "metadata": {
        "id": "mVKZRcA26kvS"
      },
      "source": [
        "### Loading"
      ]
    },
    {
      "cell_type": "markdown",
      "metadata": {
        "id": "npI_KKM-6kvS"
      },
      "source": [
        "Upload zippped file to current lab session"
      ]
    },
    {
      "cell_type": "code",
      "metadata": {
        "id": "AeyL4VZP6kvS"
      },
      "source": [
        "# from google.colab import files\n",
        "files.upload()"
      ],
      "execution_count": null,
      "outputs": []
    },
    {
      "cell_type": "markdown",
      "metadata": {
        "id": "ApV4k_Fm6kvS"
      },
      "source": [
        "Copy folder from google drive"
      ]
    },
    {
      "cell_type": "code",
      "metadata": {
        "id": "Rvx6Ff7c6kvT"
      },
      "source": [
        "cp '/content/drive/MyDrive/NYP ITD354/multilayer_perceptron.zip' '/content'"
      ],
      "execution_count": null,
      "outputs": []
    },
    {
      "cell_type": "markdown",
      "metadata": {
        "id": "LVxhrd386kvT"
      },
      "source": [
        "Unzip folder in current lab session"
      ]
    },
    {
      "cell_type": "code",
      "metadata": {
        "id": "tTJA0LuT6kvT"
      },
      "source": [
        "!unzip multilayer_perceptron.zip"
      ],
      "execution_count": null,
      "outputs": []
    },
    {
      "cell_type": "markdown",
      "metadata": {
        "id": "1ApA2wri6kvT"
      },
      "source": [
        "Load model from current lab session"
      ]
    },
    {
      "cell_type": "code",
      "metadata": {
        "id": "yfwixcjH6kvT"
      },
      "source": [
        "# from pyspark.ml.pipeline import PipelineModel\n",
        "mlp_model = PipelineModel.load('multilayer_perceptron/')"
      ],
      "execution_count": null,
      "outputs": []
    },
    {
      "cell_type": "markdown",
      "metadata": {
        "id": "2a7Ioey8s3RQ"
      },
      "source": [
        "# References"
      ]
    },
    {
      "cell_type": "markdown",
      "metadata": {
        "id": "Px_0Veaas5e4"
      },
      "source": [
        "1.   Spark Documentation\\\n",
        "https://spark.apache.org/docs/latest/ml-guide.html\n",
        "\n",
        "2.   HandySpark Library\\\n",
        "https://towardsdatascience.com/binary-classifier-evaluation-made-easy-with-handyspark-3b1e69c12b4f\n",
        "\n",
        "3.   Analysis\\\n",
        "https://pages.databricks.com/rs/094-YMS-629/images/financial-fraud-detection-decision-tree.html\n"
      ]
    }
  ]
}